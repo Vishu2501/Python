{
 "cells": [
  {
   "cell_type": "markdown",
   "id": "085e9c43",
   "metadata": {},
   "source": [
    "# QUESTION NUMBER 1"
   ]
  },
  {
   "cell_type": "code",
   "execution_count": 43,
   "id": "41ff02a2",
   "metadata": {},
   "outputs": [
    {
     "name": "stdout",
     "output_type": "stream",
     "text": [
      "15\n"
     ]
    }
   ],
   "source": [
    "#Add two numbers\n",
    "a=10\n",
    "b=5\n",
    "c=a+b\n",
    "print(c)"
   ]
  },
  {
   "cell_type": "code",
   "execution_count": 42,
   "id": "fcbd02ae",
   "metadata": {},
   "outputs": [],
   "source": [
    "#Add two numbers by function\n",
    "def add(a,b):\n",
    "    return a+b"
   ]
  },
  {
   "cell_type": "code",
   "execution_count": 2,
   "id": "b67b771e",
   "metadata": {},
   "outputs": [
    {
     "data": {
      "text/plain": [
       "5"
      ]
     },
     "execution_count": 2,
     "metadata": {},
     "output_type": "execute_result"
    }
   ],
   "source": [
    "add(2,3)"
   ]
  },
  {
   "cell_type": "code",
   "execution_count": 4,
   "id": "7097c2f2",
   "metadata": {},
   "outputs": [
    {
     "name": "stdout",
     "output_type": "stream",
     "text": [
      "enter a:4\n",
      "enter b:5\n",
      "maximum number is: 5\n"
     ]
    }
   ],
   "source": [
    "#maximum of two numbers\n",
    "a=int(input(\"enter a:\"))\n",
    "b=int(input(\"enter b:\"))\n",
    "if a==b:\n",
    "    print(\"both the numbers are equal:\")\n",
    "elif a>b:\n",
    "    print(\"maximum number is:\",a)\n",
    "else:\n",
    "    print(\"maximum number is:\",b)\n",
    "    "
   ]
  },
  {
   "cell_type": "code",
   "execution_count": 5,
   "id": "07d411f8",
   "metadata": {},
   "outputs": [],
   "source": [
    "#maximum number by function\n",
    "def maxx(a,b):\n",
    "    if a==b:\n",
    "        print(\"both numbers are equal\")\n",
    "    elif a>b:\n",
    "        print(\"maximum number is:\",a)\n",
    "    else:\n",
    "        print(\"maximum number is:\",b)"
   ]
  },
  {
   "cell_type": "code",
   "execution_count": 6,
   "id": "cb0d8825",
   "metadata": {},
   "outputs": [
    {
     "name": "stdout",
     "output_type": "stream",
     "text": [
      "maximum number is: 5\n"
     ]
    }
   ],
   "source": [
    "maxx(4,5)"
   ]
  },
  {
   "cell_type": "code",
   "execution_count": 9,
   "id": "ce038a0a",
   "metadata": {},
   "outputs": [
    {
     "name": "stdout",
     "output_type": "stream",
     "text": [
      "maximum number from list is: 66\n"
     ]
    }
   ],
   "source": [
    "#maximum from list\n",
    "a=[1,2,4,6,55,7,9,10,66,0]\n",
    "max1=a[0]\n",
    "for i in range(0,len(a)):\n",
    "    if a[i]>max1:\n",
    "        max1=a[i]\n",
    "print(\"maximum number from list is:\",max1)          \n",
    "        "
   ]
  },
  {
   "cell_type": "code",
   "execution_count": 10,
   "id": "a6c5c3a0",
   "metadata": {},
   "outputs": [],
   "source": [
    "#maximum from list by function\n",
    "def max1(a):\n",
    "    max1=a[0]\n",
    "    for i in range(0,len(a)):\n",
    "        if a[i]>max1:\n",
    "            max1=a[i]\n",
    "        \n",
    "    print(\"maximum number from list is:\",max1)    "
   ]
  },
  {
   "cell_type": "code",
   "execution_count": 11,
   "id": "ea2f4c2d",
   "metadata": {},
   "outputs": [
    {
     "name": "stdout",
     "output_type": "stream",
     "text": [
      "maximum number from list is: 22\n"
     ]
    }
   ],
   "source": [
    "max1([2,4,6,7,10,22,0,5])"
   ]
  },
  {
   "cell_type": "code",
   "execution_count": 12,
   "id": "8c330735",
   "metadata": {},
   "outputs": [
    {
     "name": "stdout",
     "output_type": "stream",
     "text": [
      "enter n:5\n",
      "120\n"
     ]
    }
   ],
   "source": [
    "#factorial\n",
    "n=int(input(\"enter n:\"))\n",
    "fact=1\n",
    "for i in range(1,n+1):\n",
    "    fact=fact*i\n",
    "print(fact)\n"
   ]
  },
  {
   "cell_type": "code",
   "execution_count": 13,
   "id": "160e2d65",
   "metadata": {},
   "outputs": [],
   "source": [
    "#factorial by recursion\n",
    "def fact(n):\n",
    "    if n==0 or n==1:\n",
    "        return 1\n",
    "    if n<0:\n",
    "        print(\"please enter whole number\")\n",
    "    if n>0:\n",
    "        return n*fact(n-1)"
   ]
  },
  {
   "cell_type": "code",
   "execution_count": 14,
   "id": "eb2332df",
   "metadata": {},
   "outputs": [
    {
     "data": {
      "text/plain": [
       "120"
      ]
     },
     "execution_count": 14,
     "metadata": {},
     "output_type": "execute_result"
    }
   ],
   "source": [
    "fact(5)"
   ]
  },
  {
   "cell_type": "code",
   "execution_count": 15,
   "id": "37f43848",
   "metadata": {},
   "outputs": [
    {
     "name": "stdout",
     "output_type": "stream",
     "text": [
      "enter principle amount1000\n",
      "enter rate of interest:10\n",
      "enter time period (in years):1\n",
      "simple interest: 100.0\n"
     ]
    }
   ],
   "source": [
    "#simple interest\n",
    "p=float(input(\"enter principle amount\"))\n",
    "r=float(input(\"enter rate of interest:\"))\n",
    "t=float(input(\"enter time period (in years):\"))\n",
    "si=p*r*t/100\n",
    "print(\"simple interest:\",si)"
   ]
  },
  {
   "cell_type": "code",
   "execution_count": 16,
   "id": "3ab63e04",
   "metadata": {},
   "outputs": [],
   "source": [
    "#simple interest by function\n",
    "def si(p,r,t):\n",
    "    si=p*r*t/100\n",
    "    print(\"simple interest:\",si)"
   ]
  },
  {
   "cell_type": "code",
   "execution_count": 17,
   "id": "b4a0133f",
   "metadata": {},
   "outputs": [
    {
     "name": "stdout",
     "output_type": "stream",
     "text": [
      "simple interest: 100.0\n"
     ]
    }
   ],
   "source": [
    "si(1000,10,1)"
   ]
  },
  {
   "cell_type": "code",
   "execution_count": 18,
   "id": "738cba99",
   "metadata": {},
   "outputs": [
    {
     "name": "stdout",
     "output_type": "stream",
     "text": [
      "enter the principal amount:1000\n",
      "enter the rate of interest:10\n",
      "enter number of times interest applied:2\n",
      "enter time period:2\n",
      "compound interest: 1215.5062500000001\n"
     ]
    }
   ],
   "source": [
    "#compound interest\n",
    "p=float(input(\"enter the principal amount:\"))\n",
    "r=float(input(\"enter the rate of interest:\"))\n",
    "n=int(input(\"enter number of times interest applied:\"))\n",
    "t=float(input(\"enter time period:\"))\n",
    "rate=r/100\n",
    "c=p*(1+rate/n)**(n*t)\n",
    "print(\"compound interest:\",c)"
   ]
  },
  {
   "cell_type": "code",
   "execution_count": 11,
   "id": "574dc481",
   "metadata": {},
   "outputs": [],
   "source": [
    "#armstrong number (153=1^3+5^3+3^3=153)\n",
    "def arm(a):\n",
    "    b=len(str(a))\n",
    "    asum=0\n",
    "    c=a\n",
    "    for i in range(0,b):\n",
    "        d=a%10\n",
    "        asum+=d**b\n",
    "        a=a//10\n",
    "    print(asum)\n",
    "    if asum==c:\n",
    "        print(\"yes\",c,\"is armstrong\")\n",
    "    else:\n",
    "        print(\"no\",c,\"is not armstrong\")\n",
    "        \n",
    "    "
   ]
  },
  {
   "cell_type": "code",
   "execution_count": 14,
   "id": "e6fc1808",
   "metadata": {},
   "outputs": [
    {
     "name": "stdout",
     "output_type": "stream",
     "text": [
      "354\n",
      "no 1234 is not armstrong\n"
     ]
    }
   ],
   "source": [
    "arm(1234)"
   ]
  },
  {
   "cell_type": "code",
   "execution_count": 1,
   "id": "b7d532ee",
   "metadata": {},
   "outputs": [
    {
     "data": {
      "text/plain": [
       "15"
      ]
     },
     "execution_count": 1,
     "metadata": {},
     "output_type": "execute_result"
    }
   ],
   "source": [
    "#sum of n natural numbers\n",
    "def sum3(n):\n",
    "    nsum=0\n",
    "    for i in range(0,n+1):\n",
    "        nsum=nsum+i\n",
    "    return nsum\n",
    "\n"
   ]
  },
  {
   "cell_type": "code",
   "execution_count": 3,
   "id": "fca48773",
   "metadata": {},
   "outputs": [
    {
     "data": {
      "text/plain": [
       "21"
      ]
     },
     "execution_count": 3,
     "metadata": {},
     "output_type": "execute_result"
    }
   ],
   "source": [
    "sum3(6)"
   ]
  },
  {
   "cell_type": "code",
   "execution_count": 20,
   "id": "6b8735cd",
   "metadata": {},
   "outputs": [],
   "source": [
    "#sum of n natural numbers by recursion function\n",
    "def nsum(n):\n",
    "    if n==1:\n",
    "        return 1\n",
    "    if n<0:\n",
    "        print(\"please enter natural number...\")\n",
    "    if n>1:\n",
    "        return n+nsum(n-1)"
   ]
  },
  {
   "cell_type": "code",
   "execution_count": 21,
   "id": "ae54df5f",
   "metadata": {},
   "outputs": [
    {
     "data": {
      "text/plain": [
       "15"
      ]
     },
     "execution_count": 21,
     "metadata": {},
     "output_type": "execute_result"
    }
   ],
   "source": [
    "nsum(5)"
   ]
  },
  {
   "cell_type": "code",
   "execution_count": 22,
   "id": "1cf88d6a",
   "metadata": {},
   "outputs": [
    {
     "name": "stdout",
     "output_type": "stream",
     "text": [
      "enter n:3\n",
      "cube sum: 36\n"
     ]
    }
   ],
   "source": [
    "#cube sum of first n natural numbers\n",
    "n=int(input(\"enter n:\"))\n",
    "csum=0\n",
    "for i in range(0,n+1):\n",
    "    csum=csum+(i**3)\n",
    "print(\"cube sum:\",csum)\n"
   ]
  },
  {
   "cell_type": "code",
   "execution_count": 1,
   "id": "7e7d1309",
   "metadata": {},
   "outputs": [],
   "source": [
    "#cube sum of n natural number by recursion function\n",
    "def csum(n):\n",
    "    if n==1:\n",
    "        return 1\n",
    "    if n<1:\n",
    "        print(\"please enter a natural number...\")\n",
    "    else:\n",
    "        return (n**3)+csum(n-1)\n",
    "        \n"
   ]
  },
  {
   "cell_type": "code",
   "execution_count": 2,
   "id": "d6bd05f7",
   "metadata": {},
   "outputs": [
    {
     "data": {
      "text/plain": [
       "225"
      ]
     },
     "execution_count": 2,
     "metadata": {},
     "output_type": "execute_result"
    }
   ],
   "source": [
    "csum(5)"
   ]
  },
  {
   "cell_type": "code",
   "execution_count": 1,
   "id": "e06da0f1",
   "metadata": {},
   "outputs": [
    {
     "name": "stdout",
     "output_type": "stream",
     "text": [
      "enter number you want to search:3\n",
      "not found!\n"
     ]
    }
   ],
   "source": [
    "#linear search\n",
    "a=[1,4,6,8,4,9,10]\n",
    "b=int(input(\"enter number you want to search:\"))\n",
    "for i in range(0,len(a)):\n",
    "    if a[i]==b:\n",
    "        print(\"found!\")\n",
    "        break\n",
    "else:\n",
    "    print(\"not found!\")\n"
   ]
  },
  {
   "cell_type": "code",
   "execution_count": 2,
   "id": "905cfcbf",
   "metadata": {},
   "outputs": [],
   "source": [
    "#linear search by function\n",
    "def ls(a,b):\n",
    "    for i in a:\n",
    "        if i==b:\n",
    "            print(\"found!\")\n",
    "            break\n",
    "    else:\n",
    "        print(\"not found!\")\n",
    "    "
   ]
  },
  {
   "cell_type": "code",
   "execution_count": 4,
   "id": "4a54637a",
   "metadata": {},
   "outputs": [
    {
     "name": "stdout",
     "output_type": "stream",
     "text": [
      "not found!\n"
     ]
    }
   ],
   "source": [
    "ls([2,4,6,7,9,1,0,12],19)"
   ]
  },
  {
   "cell_type": "code",
   "execution_count": 26,
   "id": "4ee5a87c",
   "metadata": {},
   "outputs": [
    {
     "name": "stdout",
     "output_type": "stream",
     "text": [
      "[1, 2, 3, 4, 9, 8, 7, 6]\n"
     ]
    }
   ],
   "source": [
    "#append vs extend\n",
    "\n",
    "a=[1,2,3,4]\n",
    "b=[9,8,7,6]\n",
    "\n",
    "a.extend(b)\n",
    "print(a)\n"
   ]
  },
  {
   "cell_type": "markdown",
   "id": "7636e02c",
   "metadata": {},
   "source": [
    "# QUESTION NUMBER 2"
   ]
  },
  {
   "cell_type": "code",
   "execution_count": 45,
   "id": "07b9d5fd",
   "metadata": {},
   "outputs": [
    {
     "name": "stdout",
     "output_type": "stream",
     "text": [
      "['n', 'i', 't', 'i', 'n']\n",
      "['n', 'i', 't', 'i', 'n']\n",
      "palindrome found\n"
     ]
    }
   ],
   "source": [
    "a=\"Nitin\"\n",
    "a=a.lower()\n",
    "b=[]\n",
    "c=[]\n",
    "for i in a:\n",
    "    b.append(i)\n",
    "print(b)\n",
    "for i in range(len(a)-1,-1,-1):\n",
    "    c.append(a[i])\n",
    "print(c)\n",
    "\n",
    "\n",
    "if \"\".join(b)== \"\".join(c):\n",
    "    print(\"palindrome found\")\n",
    "else:\n",
    "    print(\"palindrome not found\")\n",
    "    \n"
   ]
  },
  {
   "cell_type": "code",
   "execution_count": 34,
   "id": "61d2e710",
   "metadata": {},
   "outputs": [
    {
     "name": "stdout",
     "output_type": "stream",
     "text": [
      "h\n",
      "s\n",
      "e\n",
      "k\n",
      "u\n",
      "m\n"
     ]
    }
   ],
   "source": [
    "a=\"mukesh\"\n",
    "for i in range(len(a)-1,-1,-1):\n",
    "    print(a[i])"
   ]
  },
  {
   "cell_type": "code",
   "execution_count": 43,
   "id": "f600d879",
   "metadata": {},
   "outputs": [
    {
     "name": "stdout",
     "output_type": "stream",
     "text": [
      "['m', 'u', 'k', 'e', 's', 'h']\n",
      "mukesh\n"
     ]
    }
   ],
   "source": [
    "a=\"mukesh\"\n",
    "b=[]\n",
    "for i in a:\n",
    "    b.append(i)\n",
    "print(b)\n",
    "c=\"\".join(b)\n",
    "print(c)"
   ]
  },
  {
   "cell_type": "code",
   "execution_count": 28,
   "id": "001f0b3e",
   "metadata": {},
   "outputs": [
    {
     "name": "stdout",
     "output_type": "stream",
     "text": [
      "enter to check palindrome or not:aba\n",
      "aba is palindrome\n"
     ]
    }
   ],
   "source": [
    "#palindrome\n",
    "a=input(\"enter to check palindrome or not:\")\n",
    "b=a[::-1]\n",
    "if a==b:\n",
    "    print(a,\"is palindrome\")\n",
    "else:\n",
    "    print(a,\"is not a palindrome\")"
   ]
  },
  {
   "cell_type": "code",
   "execution_count": 29,
   "id": "5b3396b4",
   "metadata": {},
   "outputs": [],
   "source": [
    "#palindrome with function\n",
    "def pal(a):\n",
    "    b=a[::-1]\n",
    "    if a==b:\n",
    "        print(a,\"is palindrome\")\n",
    "    else:\n",
    "        print(a,\"is not palindrome\")\n"
   ]
  },
  {
   "cell_type": "code",
   "execution_count": 31,
   "id": "dd651706",
   "metadata": {},
   "outputs": [
    {
     "name": "stdout",
     "output_type": "stream",
     "text": [
      "12121 is palindrome\n"
     ]
    }
   ],
   "source": [
    "pal('12121')"
   ]
  },
  {
   "cell_type": "code",
   "execution_count": 7,
   "id": "1983a567",
   "metadata": {},
   "outputs": [
    {
     "data": {
      "text/plain": [
       "1346269"
      ]
     },
     "execution_count": 7,
     "metadata": {},
     "output_type": "execute_result"
    }
   ],
   "source": [
    "def fibonaci(n):\n",
    "    if n==0 or n==1:\n",
    "        return 1\n",
    "    else:\n",
    "        return fibonaci(n-1)+fibonaci(n-2)\n",
    "\n",
    "fibonaci(30)"
   ]
  },
  {
   "cell_type": "code",
   "execution_count": 32,
   "id": "f4c06b3a",
   "metadata": {},
   "outputs": [
    {
     "name": "stdout",
     "output_type": "stream",
     "text": [
      "enter n:5\n",
      "0\n",
      "1\n",
      "1\n",
      "2\n",
      "3\n",
      "5\n"
     ]
    }
   ],
   "source": [
    "#fabonacci series\n",
    "n=int(input(\"enter n:\"))\n",
    "first=0\n",
    "second=1\n",
    "print(first)\n",
    "print(second)\n",
    "for i in range(2,n+1):\n",
    "    third=first+second\n",
    "    first,second=second,third\n",
    "    print(third)"
   ]
  },
  {
   "cell_type": "code",
   "execution_count": 8,
   "id": "3388b18c",
   "metadata": {},
   "outputs": [],
   "source": [
    "#checking a number is prime or not by function\n",
    "def prime(n):\n",
    "    if n>0:\n",
    "        for i in range(2,n):\n",
    "            if n%i==0:\n",
    "                print(n,\"is not prime\")\n",
    "                break \n",
    "        else:\n",
    "            print(n,\"is prime\")\n",
    "    else:\n",
    "        print(\"please enter positive number...\")\n"
   ]
  },
  {
   "cell_type": "code",
   "execution_count": 11,
   "id": "83ab8044",
   "metadata": {},
   "outputs": [
    {
     "name": "stdout",
     "output_type": "stream",
     "text": [
      "2 is prime\n"
     ]
    }
   ],
   "source": [
    "prime(2)"
   ]
  },
  {
   "cell_type": "code",
   "execution_count": 92,
   "id": "a3555804",
   "metadata": {},
   "outputs": [
    {
     "name": "stdout",
     "output_type": "stream",
     "text": [
      "[0, 1, 5, 7, 9, 12, 34, 98]\n"
     ]
    }
   ],
   "source": [
    "#sorting with function\n",
    "a=[1,5,0,7,9,12,34,98]\n",
    "a.sort()\n",
    "print(a)"
   ]
  },
  {
   "cell_type": "code",
   "execution_count": 119,
   "id": "6af867be",
   "metadata": {},
   "outputs": [
    {
     "name": "stdout",
     "output_type": "stream",
     "text": [
      "[1, 2, 3, 4, 5, 10]\n"
     ]
    }
   ],
   "source": [
    "#sorting without function\n",
    "a=[5,4,3,10,2,1]\n",
    "b=0\n",
    "for i in range(0,len(a)):\n",
    "    for j in range(i+1,len(a)):\n",
    "        if a[i]>a[j]:\n",
    "            b=a[i]\n",
    "            a[i]=a[j]\n",
    "            a[j]=b\n",
    "print(a)        \n",
    "    "
   ]
  },
  {
   "cell_type": "code",
   "execution_count": null,
   "id": "22342132",
   "metadata": {},
   "outputs": [],
   "source": []
  },
  {
   "cell_type": "code",
   "execution_count": 392,
   "id": "27b6b69e",
   "metadata": {},
   "outputs": [],
   "source": [
    "#binary search\n",
    "def bsearch(a,b):\n",
    "    a.sort()\n",
    "    print(a)\n",
    "    lmin=0\n",
    "    lmax=len(a)\n",
    "    mid=(lmin+lmax)//2\n",
    "    #print(\"mid\",a[mid])\n",
    "    if b==a[mid]:\n",
    "        print(b,\"found\")\n",
    "    elif b<a[mid]:\n",
    "        for i in range(lmin,mid):\n",
    "            if a[i]==b:\n",
    "                print(b,'found')\n",
    "                break\n",
    "        else:\n",
    "            print(b,\"not found!\")\n",
    "    elif b>a[mid]:\n",
    "        for i in range(mid+1,len(a)):\n",
    "            if a[i]==b:\n",
    "                print(b,\"found\")\n",
    "                break\n",
    "        else:\n",
    "            print(b,\"not found!\")\n",
    "            #    break\n",
    "                "
   ]
  },
  {
   "cell_type": "code",
   "execution_count": 394,
   "id": "286d1afb",
   "metadata": {},
   "outputs": [
    {
     "name": "stdout",
     "output_type": "stream",
     "text": [
      "[11, 18, 23, 34, 43, 54, 100]\n",
      "54 found\n"
     ]
    }
   ],
   "source": [
    "bsearch([11,23,34,54,43,18,100],54)"
   ]
  },
  {
   "cell_type": "code",
   "execution_count": null,
   "id": "d64e8814",
   "metadata": {},
   "outputs": [],
   "source": []
  },
  {
   "cell_type": "markdown",
   "id": "e9dc02e5",
   "metadata": {},
   "source": [
    "# QUESTION NUMBER 3"
   ]
  },
  {
   "cell_type": "code",
   "execution_count": 5,
   "id": "7c6c8836",
   "metadata": {},
   "outputs": [],
   "source": [
    "#reverse the string\n",
    "def rev(a):\n",
    "    rev=a[::-1]\n",
    "    print(\"reverse is\" ,rev)"
   ]
  },
  {
   "cell_type": "code",
   "execution_count": 8,
   "id": "c2f7309b",
   "metadata": {},
   "outputs": [
    {
     "name": "stdout",
     "output_type": "stream",
     "text": [
      "reverse is dcba\n"
     ]
    }
   ],
   "source": [
    "rev(\"abcd\")"
   ]
  },
  {
   "cell_type": "code",
   "execution_count": 358,
   "id": "f3138a77",
   "metadata": {},
   "outputs": [],
   "source": [
    "#fabonacci series with iterative method\n",
    "def fabo(n):\n",
    "    f,s=1,1\n",
    "    print(f)\n",
    "    print(s)\n",
    "    for i in range(2,n):\n",
    "        t=f+s\n",
    "        f,s=s,t\n",
    "        print(t)"
   ]
  },
  {
   "cell_type": "code",
   "execution_count": 359,
   "id": "cef91bba",
   "metadata": {},
   "outputs": [
    {
     "name": "stdout",
     "output_type": "stream",
     "text": [
      "1\n",
      "1\n",
      "2\n",
      "3\n",
      "5\n"
     ]
    }
   ],
   "source": [
    "fabo(5)"
   ]
  },
  {
   "cell_type": "code",
   "execution_count": 356,
   "id": "daf7983c",
   "metadata": {},
   "outputs": [],
   "source": [
    "#fabonacci series with recursion function\n",
    "def fabo(n):\n",
    "    if n==0:\n",
    "        return 0\n",
    "    if n==1:\n",
    "        return 1\n",
    "    if n>1:\n",
    "        return fabo(n-1)+fabo(n-2)\n",
    "    #for i in range(n):\n",
    "     #   print(fabo(i))"
   ]
  },
  {
   "cell_type": "code",
   "execution_count": 357,
   "id": "49788f93",
   "metadata": {},
   "outputs": [
    {
     "data": {
      "text/plain": [
       "5"
      ]
     },
     "execution_count": 357,
     "metadata": {},
     "output_type": "execute_result"
    }
   ],
   "source": [
    "fabo(5)"
   ]
  },
  {
   "cell_type": "code",
   "execution_count": 51,
   "id": "80b94379",
   "metadata": {},
   "outputs": [],
   "source": [
    "#palindrome or not without recursion\n",
    "def pal(n):\n",
    "    b=''\n",
    "    for i in range(-1,-len(n)-1,-1):\n",
    "        b=b+n[i]\n",
    "    if n==b:\n",
    "        print(n,\"is palindrome\")\n",
    "    else:\n",
    "        print(n,\"is not palindrome \")\n",
    "    "
   ]
  },
  {
   "cell_type": "code",
   "execution_count": 52,
   "id": "3f5405dc",
   "metadata": {},
   "outputs": [
    {
     "name": "stdout",
     "output_type": "stream",
     "text": [
      "hello is not palindrome \n"
     ]
    }
   ],
   "source": [
    "pal('hello')"
   ]
  },
  {
   "cell_type": "code",
   "execution_count": 53,
   "id": "d9fe993d",
   "metadata": {},
   "outputs": [],
   "source": [
    "#palindrome or not without iteration\n",
    "def pal(n):\n",
    "    rev=n[::-1]\n",
    "    if n==rev:\n",
    "        print(n,\"is palindrome\")\n",
    "    else:\n",
    "        print(n,\"is not palindrome\")"
   ]
  },
  {
   "cell_type": "code",
   "execution_count": 55,
   "id": "0ee4aab3",
   "metadata": {},
   "outputs": [
    {
     "name": "stdout",
     "output_type": "stream",
     "text": [
      "12121 is palindrome\n"
     ]
    }
   ],
   "source": [
    "pal(\"12121\")"
   ]
  },
  {
   "cell_type": "code",
   "execution_count": 3,
   "id": "fabc5a9a",
   "metadata": {},
   "outputs": [],
   "source": [
    "#greatest amoung three numbers\n",
    "def great(a,b,c):\n",
    "    if a==b and b==c:\n",
    "        print(\"numbers are same...\")\n",
    "    elif a>b and a>c:\n",
    "        print(a,\"is greatest\")\n",
    "    elif b>a and b>c:\n",
    "        print(b,\"is greatest\")\n",
    "    else:\n",
    "        print(c,\"is greatest\")\n",
    "        \n"
   ]
  },
  {
   "cell_type": "code",
   "execution_count": 6,
   "id": "9b1ebb06",
   "metadata": {},
   "outputs": [
    {
     "name": "stdout",
     "output_type": "stream",
     "text": [
      "10 is greatest\n"
     ]
    }
   ],
   "source": [
    "great(8,7,10)"
   ]
  },
  {
   "cell_type": "code",
   "execution_count": 9,
   "id": "bd61e758",
   "metadata": {},
   "outputs": [],
   "source": [
    "#check binary or not\n",
    "def binary(a):\n",
    "    b=set(a)\n",
    "    p={'1','0'}\n",
    "    if b==p :#or b=={0} or b=={1} :\n",
    "        print(\"yes binary\")\n",
    "    else:\n",
    "        print(\"not a binary\")\n",
    "        \n",
    "        "
   ]
  },
  {
   "cell_type": "code",
   "execution_count": 13,
   "id": "4e7a2a98",
   "metadata": {},
   "outputs": [
    {
     "name": "stdout",
     "output_type": "stream",
     "text": [
      "not a binary\n"
     ]
    }
   ],
   "source": [
    "binary('10100010121010')"
   ]
  },
  {
   "cell_type": "code",
   "execution_count": 33,
   "id": "efd85a26",
   "metadata": {},
   "outputs": [
    {
     "name": "stdout",
     "output_type": "stream",
     "text": [
      "enter n:23\n",
      "5\n"
     ]
    }
   ],
   "source": [
    "#sum of digits of a number using recursion\n",
    "n=int(input(\"enter n:\"))\n",
    "dsum=0\n",
    "b=len(str(n))\n",
    "for i in range(0,b):\n",
    "    c=n%10\n",
    "    dsum=dsum+c\n",
    "    n=n//10\n",
    "print(dsum)\n",
    "        "
   ]
  },
  {
   "cell_type": "code",
   "execution_count": null,
   "id": "f09cf789",
   "metadata": {},
   "outputs": [],
   "source": []
  },
  {
   "cell_type": "code",
   "execution_count": 3,
   "id": "e80dc998",
   "metadata": {},
   "outputs": [],
   "source": [
    "#swap two numbers without third variable\n",
    "def swapp(a,b):\n",
    "    a=a+b\n",
    "    b=a-b\n",
    "    a=a-b\n",
    "    print(\"a:\",a)\n",
    "    print(\"b:\",b)"
   ]
  },
  {
   "cell_type": "code",
   "execution_count": 4,
   "id": "a52036fa",
   "metadata": {},
   "outputs": [
    {
     "name": "stdout",
     "output_type": "stream",
     "text": [
      "a: 5\n",
      "b: 3\n"
     ]
    }
   ],
   "source": [
    "swapp(3,5)"
   ]
  },
  {
   "cell_type": "code",
   "execution_count": 39,
   "id": "277867b0",
   "metadata": {},
   "outputs": [],
   "source": [
    "#swap two numbers using third variable\n",
    "def swapp(a,b):\n",
    "    temp=a\n",
    "    a=b\n",
    "    b=temp\n",
    "    print(\" a and b :\",a,\",\",b)"
   ]
  },
  {
   "cell_type": "code",
   "execution_count": 40,
   "id": "69553bad",
   "metadata": {},
   "outputs": [
    {
     "name": "stdout",
     "output_type": "stream",
     "text": [
      " a and b : 5 , 4\n"
     ]
    }
   ],
   "source": [
    "swapp(4,5)"
   ]
  },
  {
   "cell_type": "code",
   "execution_count": 11,
   "id": "5c68fe59",
   "metadata": {},
   "outputs": [],
   "source": [
    "#prime factors \n",
    "def fac(a):\n",
    "    b=[]\n",
    "    c=2\n",
    "    for i in range(c,a):\n",
    "        if a%c==0:\n",
    "            b.append(c)\n",
    "            a=a/c\n",
    "        else:\n",
    "            c=c+1\n",
    "    else:\n",
    "        b.append(a)\n",
    "    return b"
   ]
  },
  {
   "cell_type": "code",
   "execution_count": 12,
   "id": "72499f39",
   "metadata": {},
   "outputs": [
    {
     "data": {
      "text/plain": [
       "[2, 2, 5, 1.0]"
      ]
     },
     "execution_count": 12,
     "metadata": {},
     "output_type": "execute_result"
    }
   ],
   "source": [
    "fac(20)"
   ]
  },
  {
   "cell_type": "code",
   "execution_count": 5,
   "id": "9a0f75cb",
   "metadata": {},
   "outputs": [],
   "source": [
    "#add two numbers without arithmetic operator\n",
    "def add1(a,b):\n",
    "    c=-a-b\n",
    "    print(-c)\n",
    "    "
   ]
  },
  {
   "cell_type": "code",
   "execution_count": 2,
   "id": "4ece0d38",
   "metadata": {},
   "outputs": [
    {
     "name": "stdout",
     "output_type": "stream",
     "text": [
      "10\n"
     ]
    }
   ],
   "source": [
    "add1(5,5)"
   ]
  },
  {
   "cell_type": "code",
   "execution_count": 96,
   "id": "df56bbfc",
   "metadata": {},
   "outputs": [],
   "source": [
    "#number is perfect or not\n",
    "def per(a):\n",
    "    b=[]\n",
    "    d=0\n",
    "    for i in range(1,a):\n",
    "        if a%i==0:\n",
    "            b.append(i)\n",
    "            d=d+i\n",
    "         #print(\"sum1\",d)    \n",
    "        \n",
    "        \n",
    "    else:\n",
    "        b.append(a)\n",
    "    \n",
    "    if d==a:\n",
    "            print(\"number is perfect\")\n",
    "    else:\n",
    "            print(\"number is not perfect\")\n",
    "    return b        \n",
    "    \n",
    "    \n"
   ]
  },
  {
   "cell_type": "code",
   "execution_count": 100,
   "id": "5172852f",
   "metadata": {},
   "outputs": [
    {
     "name": "stdout",
     "output_type": "stream",
     "text": [
      "number is perfect\n"
     ]
    },
    {
     "data": {
      "text/plain": [
       "[1, 2, 4, 7, 14, 28]"
      ]
     },
     "execution_count": 100,
     "metadata": {},
     "output_type": "execute_result"
    }
   ],
   "source": [
    "per(28)"
   ]
  },
  {
   "cell_type": "code",
   "execution_count": null,
   "id": "093b0818",
   "metadata": {},
   "outputs": [],
   "source": []
  },
  {
   "cell_type": "code",
   "execution_count": null,
   "id": "55e53f24",
   "metadata": {},
   "outputs": [],
   "source": []
  },
  {
   "cell_type": "code",
   "execution_count": 11,
   "id": "bc0dd32e",
   "metadata": {},
   "outputs": [],
   "source": [
    "#remove nth charater\n",
    "def r(a,b):\n",
    "    for i in range(0,len(a)):\n",
    "        if a[i]==b:\n",
    "            continue\n",
    "        print(a[i],end='')\n",
    "    "
   ]
  },
  {
   "cell_type": "code",
   "execution_count": 13,
   "id": "10e2dc66",
   "metadata": {},
   "outputs": [
    {
     "name": "stdout",
     "output_type": "stream",
     "text": [
      "aishu"
     ]
    }
   ],
   "source": [
    "r(\"vaishu\",'v')"
   ]
  },
  {
   "cell_type": "code",
   "execution_count": 23,
   "id": "2e7a7af6",
   "metadata": {},
   "outputs": [],
   "source": [
    "#count occurance of a given character\n",
    "def countt(a,b):\n",
    "    count1=0\n",
    "    for i in range(0,len(a)):\n",
    "        if a[i]==b:\n",
    "            count1=count1+1\n",
    "    print(\"count of\",b,\":\",count1)"
   ]
  },
  {
   "cell_type": "code",
   "execution_count": 26,
   "id": "edfdb233",
   "metadata": {},
   "outputs": [
    {
     "name": "stdout",
     "output_type": "stream",
     "text": [
      "count of p : 2\n"
     ]
    }
   ],
   "source": [
    "countt(\"apple\",\"p\")"
   ]
  },
  {
   "cell_type": "code",
   "execution_count": 10,
   "id": "e711a176",
   "metadata": {},
   "outputs": [],
   "source": [
    "#check two string is anagram\n",
    "def ana(a,b):\n",
    "    print(sorted(a),sorted(b))\n",
    "    if sorted(a)==sorted(b):\n",
    "        print(a,\"and\",b,\"are anagram...\")\n",
    "    else:\n",
    "        print(a,\"and\",b,\"are not anagram\")"
   ]
  },
  {
   "cell_type": "code",
   "execution_count": 11,
   "id": "da0882d8",
   "metadata": {},
   "outputs": [
    {
     "name": "stdout",
     "output_type": "stream",
     "text": [
      "['a', 'a', 'd', 't'] ['a', 'a', 'd', 't']\n",
      "tada and data are anagram...\n"
     ]
    }
   ],
   "source": [
    "ana(\"tada\",\"data\")"
   ]
  },
  {
   "cell_type": "code",
   "execution_count": 26,
   "id": "6aca64cd",
   "metadata": {},
   "outputs": [],
   "source": [
    "#number is missing from array of 1-10 number\n",
    "\n",
    "def miss(c):\n",
    "    a=int((10*(10+1))/2)\n",
    "    \n",
    "    b=sum(c)\n",
    "    \n",
    "    return a-b\n",
    "\n",
    "\n",
    "        "
   ]
  },
  {
   "cell_type": "code",
   "execution_count": 27,
   "id": "d17b30b0",
   "metadata": {},
   "outputs": [
    {
     "data": {
      "text/plain": [
       "6"
      ]
     },
     "execution_count": 27,
     "metadata": {},
     "output_type": "execute_result"
    }
   ],
   "source": [
    "array=[1,2,3,4,5,7,8,9,10]\n",
    "\n",
    "miss(array)"
   ]
  },
  {
   "cell_type": "code",
   "execution_count": 1,
   "id": "b2408a5b",
   "metadata": {},
   "outputs": [],
   "source": [
    "#find all pairs in array of integers whose sum is equal to n\n",
    "def tada(a,b):\n",
    "    for i in range(0,len(a)):\n",
    "        for j in range(0,len(a)):\n",
    "            summ=i+j\n",
    "            if summ==b:\n",
    "                print(summ,\"(\",i,\",\",j,\")\")"
   ]
  },
  {
   "cell_type": "code",
   "execution_count": 2,
   "id": "2999fa4b",
   "metadata": {},
   "outputs": [
    {
     "name": "stdout",
     "output_type": "stream",
     "text": [
      "5 ( 0 , 5 )\n",
      "5 ( 1 , 4 )\n",
      "5 ( 2 , 3 )\n",
      "5 ( 3 , 2 )\n",
      "5 ( 4 , 1 )\n",
      "5 ( 5 , 0 )\n"
     ]
    }
   ],
   "source": [
    "tada([6,5,4,3,2,1],5)"
   ]
  },
  {
   "cell_type": "code",
   "execution_count": 159,
   "id": "f09b60f6",
   "metadata": {},
   "outputs": [],
   "source": [
    "def ls(a,b):\n",
    "   \n",
    "    for i in range(0,len(a)):\n",
    "        c=a[0]\n",
    "        if a[i]+c==b:\n",
    "            c=c+1\n",
    "            print(\"(\",c,\",\",i,\")\")\n",
    "            \n",
    "            \n",
    "    #else:\n",
    "     #   print(\"not found!\")"
   ]
  },
  {
   "cell_type": "code",
   "execution_count": 160,
   "id": "557676f4",
   "metadata": {},
   "outputs": [
    {
     "name": "stdout",
     "output_type": "stream",
     "text": [
      "( 2 , 4 )\n"
     ]
    }
   ],
   "source": [
    "ls([1,2,3,4,5,6],6)"
   ]
  },
  {
   "cell_type": "code",
   "execution_count": 381,
   "id": "ca2d1534",
   "metadata": {},
   "outputs": [],
   "source": [
    "# compare two array is equal in size or not\n",
    "def asize(a,b):\n",
    "    if len(a)==len(b):\n",
    "        print(\"they are equal...\")\n",
    "    else:\n",
    "        print(\"they are not equal\")"
   ]
  },
  {
   "cell_type": "code",
   "execution_count": 385,
   "id": "3ffb1d82",
   "metadata": {},
   "outputs": [
    {
     "name": "stdout",
     "output_type": "stream",
     "text": [
      "they are not equal\n"
     ]
    }
   ],
   "source": [
    "asize([1,2,3,4],[5,6,7,8,9])"
   ]
  },
  {
   "cell_type": "code",
   "execution_count": 21,
   "id": "bbc5c3d3",
   "metadata": {},
   "outputs": [],
   "source": [
    "#find largest and smallest number in array.\n",
    "def find(a):\n",
    "    maxx=a[0]\n",
    "    minn=a[0]\n",
    "    for i in a:\n",
    "        if i>maxx:\n",
    "            maxx=i        \n",
    "    print(\"largest\",maxx)\n",
    "    for i in a:\n",
    "        if i<minn:\n",
    "            minn=i\n",
    "    print(\"smallest\",minn)\n",
    "    "
   ]
  },
  {
   "cell_type": "code",
   "execution_count": 22,
   "id": "daba7363",
   "metadata": {},
   "outputs": [
    {
     "name": "stdout",
     "output_type": "stream",
     "text": [
      "largest 88\n",
      "smallest 0\n"
     ]
    }
   ],
   "source": [
    "find([11,23,54,33,0,1,88])"
   ]
  },
  {
   "cell_type": "code",
   "execution_count": 9,
   "id": "369c7b52",
   "metadata": {},
   "outputs": [],
   "source": [
    "# find second highest number in an integer array\n",
    "def high(a):\n",
    "    b=0\n",
    "    for i in range(0,len(a)):\n",
    "        for j in range(i+1,len(a)):\n",
    "            if a[i]>a[j]:\n",
    "                b=a[i]\n",
    "                a[i]=a[j]\n",
    "                a[j]=b\n",
    "    print(a)\n",
    "    print(\"second highest\",a[-2])"
   ]
  },
  {
   "cell_type": "code",
   "execution_count": 10,
   "id": "7251e557",
   "metadata": {},
   "outputs": [
    {
     "name": "stdout",
     "output_type": "stream",
     "text": [
      "[0, 1, 2, 5, 7, 9, 10]\n",
      "second highest 9\n"
     ]
    }
   ],
   "source": [
    "high([5,7,9,2,1,0,10])"
   ]
  },
  {
   "cell_type": "code",
   "execution_count": 3,
   "id": "70c9a4db",
   "metadata": {},
   "outputs": [],
   "source": [
    "#find top two maximum number in array\n",
    "def top2(a):\n",
    "    b=0\n",
    "    for i in range(0,len(a)):\n",
    "        for j in range(i+1,len(a)):\n",
    "            if a[i]>a[j]:\n",
    "                b=a[i]\n",
    "                a[i]=a[j]\n",
    "                a[j]=b\n",
    "    print(a)        \n",
    "       #print(b)\n",
    "    print(\"top two:\",a[-2],\"and\",a[-1])\n"
   ]
  },
  {
   "cell_type": "code",
   "execution_count": 4,
   "id": "3d93a8da",
   "metadata": {},
   "outputs": [
    {
     "name": "stdout",
     "output_type": "stream",
     "text": [
      "[4, 4, 6, 8, 9, 10, 11, 34]\n",
      "top two: 11 and 34\n"
     ]
    }
   ],
   "source": [
    "top2([4,6,8,9,10,34,11,4])"
   ]
  },
  {
   "cell_type": "code",
   "execution_count": 141,
   "id": "6479e3d9",
   "metadata": {},
   "outputs": [],
   "source": [
    "#remove duplicate elements from array\n",
    "def dup(a):\n",
    "    b=[]\n",
    "    for i in  a:\n",
    "        if i in b:\n",
    "            pass\n",
    "        else:\n",
    "            b.append(i)\n",
    "    print(b)\n",
    "        \n",
    "      "
   ]
  },
  {
   "cell_type": "code",
   "execution_count": 142,
   "id": "d1b8a575",
   "metadata": {},
   "outputs": [
    {
     "name": "stdout",
     "output_type": "stream",
     "text": [
      "[1, 2, 3, 4, 5]\n"
     ]
    }
   ],
   "source": [
    "dup([1,2,3,4,4,1,5,5])"
   ]
  },
  {
   "cell_type": "markdown",
   "id": "be864524",
   "metadata": {},
   "source": [
    "# EXTRA QUESTIONS"
   ]
  },
  {
   "cell_type": "code",
   "execution_count": 122,
   "id": "b28ec18e",
   "metadata": {},
   "outputs": [
    {
     "name": "stdout",
     "output_type": "stream",
     "text": [
      "enter a:HELLO\n",
      "5\n"
     ]
    }
   ],
   "source": [
    "#find length of the string\n",
    "a=input(\"enter a:\")\n",
    "b=0\n",
    "for i in a:\n",
    "    b=b+1\n",
    "print(b)"
   ]
  },
  {
   "cell_type": "code",
   "execution_count": 123,
   "id": "be6f4015",
   "metadata": {},
   "outputs": [],
   "source": [
    "#remove nth charater\n",
    "def c(a,b):\n",
    "#a='nishesh'\n",
    "#b=input(\"enter character to remove:\")\n",
    "    for i in range(0,len(a)):\n",
    "        if a[i]==b:\n",
    "            continue\n",
    "        else:\n",
    "            print(a[i],end='')"
   ]
  },
  {
   "cell_type": "code",
   "execution_count": 125,
   "id": "b48db039",
   "metadata": {},
   "outputs": [
    {
     "name": "stdout",
     "output_type": "stream",
     "text": [
      "ale"
     ]
    }
   ],
   "source": [
    "c('apple','p')"
   ]
  },
  {
   "cell_type": "code",
   "execution_count": 1,
   "id": "ddef70a6",
   "metadata": {},
   "outputs": [],
   "source": [
    "def palindrome(a):\n",
    "    b=''\n",
    "    for i in range(len(a)-1,-1,-1):\n",
    "        b=b+a[i]\n",
    "    if b==a:\n",
    "        print(\"its a palindrome\")\n",
    "    else:\n",
    "        print(\"its not a palindrome\")\n",
    "\n",
    "\n"
   ]
  },
  {
   "cell_type": "code",
   "execution_count": 4,
   "id": "c9f49ad0",
   "metadata": {},
   "outputs": [
    {
     "name": "stdout",
     "output_type": "stream",
     "text": [
      "its a palindrome\n"
     ]
    }
   ],
   "source": [
    "a=\"nitin\"\n",
    "palindrome(a)\n",
    "\n"
   ]
  },
  {
   "cell_type": "code",
   "execution_count": null,
   "id": "7043e3b4",
   "metadata": {},
   "outputs": [],
   "source": []
  }
 ],
 "metadata": {
  "kernelspec": {
   "display_name": "Python 3 (ipykernel)",
   "language": "python",
   "name": "python3"
  },
  "language_info": {
   "codemirror_mode": {
    "name": "ipython",
    "version": 3
   },
   "file_extension": ".py",
   "mimetype": "text/x-python",
   "name": "python",
   "nbconvert_exporter": "python",
   "pygments_lexer": "ipython3",
   "version": "3.9.7"
  }
 },
 "nbformat": 4,
 "nbformat_minor": 5
}
